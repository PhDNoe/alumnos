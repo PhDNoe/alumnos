{
 "cells": [
  {
   "cell_type": "markdown",
   "metadata": {},
   "source": [
    "---\n",
    "## Vamos a crear una base de datos de alumnos \n",
    "\n",
    "---"
   ]
  },
  {
   "cell_type": "code",
   "execution_count": 7,
   "metadata": {},
   "outputs": [],
   "source": [
    "# Zona de imports\n",
    "import mysql.connector\n",
    "import db_config as c  # Aca estan todos los datos necesarios para conectarse a la base de datos\n",
    "\n"
   ]
  },
  {
   "cell_type": "markdown",
   "metadata": {},
   "source": [
    "---\n",
    "#### Verificamos las bases de datos actuales\n",
    "\n",
    "---"
   ]
  },
  {
   "cell_type": "code",
   "execution_count": 8,
   "metadata": {},
   "outputs": [],
   "source": [
    "# Creamos una funcion para mostrar las bases de datos disponibles\n",
    "\n",
    "def show_db():\n",
    "    # Nos conectamos al host con nuestros datos\n",
    "    mydb = mysql.connector.connect(\n",
    "        host=c.config['host'],\n",
    "        user=c.config['user'],\n",
    "        password=c.config['password']\n",
    "    )\n",
    "\n",
    "    # Creamos un cursor\n",
    "    mycursor = mydb.cursor()   \n",
    "\n",
    "    # Armamos la query \n",
    "    query = \"SHOW DATABASES\"\n",
    "\n",
    "    # Ejecutamos\n",
    "    mycursor.execute(query)\n",
    "\n",
    "    # Mostramos resultados de la consulta\n",
    "    for x in mycursor:\n",
    "        print(x)\n",
    "    \n",
    "    # Cerramos\n",
    "    mycursor.close()\n",
    "    mydb.close()"
   ]
  },
  {
   "cell_type": "code",
   "execution_count": 9,
   "metadata": {},
   "outputs": [
    {
     "name": "stdout",
     "output_type": "stream",
     "text": [
      "('basedenoe',)\n",
      "('holamundo',)\n",
      "('information_schema',)\n",
      "('mysql',)\n",
      "('performance_schema',)\n",
      "('sys',)\n"
     ]
    }
   ],
   "source": [
    "# Ejecuto la funcion\n",
    "\n",
    "show_db()"
   ]
  },
  {
   "cell_type": "markdown",
   "metadata": {},
   "source": [
    "---\n",
    "#### Creamos una base de datos llamada facultad\n",
    "\n",
    "> En esta base de datos crearemos las tabla alumnos, docentes, asignaturas, carreras\n",
    "\n",
    "---"
   ]
  },
  {
   "cell_type": "code",
   "execution_count": 10,
   "metadata": {},
   "outputs": [],
   "source": [
    "def create_table(table_name):\n",
    "    # Nos conectamos con nuestros datos\n",
    "    mydb = mysql.connector.connect(\n",
    "        host=c.config['host'],\n",
    "        user=c.config['user'],\n",
    "        password=c.config['password']\n",
    "    )\n",
    "\n",
    "    mycursor = mydb.cursor()\n",
    "\n",
    "    # Creo la query y la ejecuto\n",
    "    query = \"CREATE DATABASE \"+table_name\n",
    "    mycursor.execute(query)\n",
    "\n",
    "    # Cierro\n",
    "    mycursor.close()\n",
    "    mydb.close()\n",
    "    \n"
   ]
  },
  {
   "cell_type": "code",
   "execution_count": 11,
   "metadata": {},
   "outputs": [],
   "source": [
    "# Creamos la base de datos, invocando la funcion\n",
    "create_table(\"facultad\")"
   ]
  },
  {
   "cell_type": "code",
   "execution_count": 12,
   "metadata": {},
   "outputs": [
    {
     "name": "stdout",
     "output_type": "stream",
     "text": [
      "('basedenoe',)\n",
      "('facultad',)\n",
      "('holamundo',)\n",
      "('information_schema',)\n",
      "('mysql',)\n",
      "('performance_schema',)\n",
      "('sys',)\n"
     ]
    }
   ],
   "source": [
    "# Mostramos si se ha creado la base de datos\n",
    "show_db()"
   ]
  },
  {
   "cell_type": "markdown",
   "metadata": {},
   "source": [
    "---\n",
    "### Conectarse a una Base de Datos \n",
    "Antes de crear una tabla dentro de una BD, debemos conectarnos a ella (indicar cual de todas las BD vamos a utilizar)\n",
    "\n",
    "---"
   ]
  },
  {
   "cell_type": "code",
   "execution_count": 13,
   "metadata": {},
   "outputs": [],
   "source": [
    "def connect_to_db(db_name):\n",
    "\n",
    "    mydb = mysql.connector.connect( \n",
    "        host=c.config['host'],\n",
    "        user=c.config['user'],\n",
    "        password=c.config['password'],\n",
    "        database=db_name\n",
    "    )\n",
    "\n",
    "    return mydb"
   ]
  },
  {
   "cell_type": "markdown",
   "metadata": {},
   "source": [
    "---\n",
    "#### Creamos una tabla de alumnos\n",
    "\n",
    "---"
   ]
  },
  {
   "cell_type": "code",
   "execution_count": 14,
   "metadata": {},
   "outputs": [],
   "source": [
    "# Podemos definir una funcion para crear tablas en forma generica\n",
    "def create_table(db_name, table_name, col_dict):\n",
    "    \"\"\"\n",
    "    col_dict = {\n",
    "        col1: {col_name: name, col_type: type},\n",
    "        col2: {col_name: name, col_type: type},\n",
    "        col3: {col_name: name, col_type: type},\n",
    "        ...\n",
    "        coln: {col_name: name, col_type: type},\n",
    "    }\n",
    "    \"\"\"\n",
    "    my_str = \"\"\n",
    "\n",
    "    for k,v in col_dict.items():\n",
    "        my_str += (v['col_name'] + \" \"+v['col_type']+\",\")\n",
    "\n",
    "    query = \"CREATE TABLE \"+table_name+\" (id INT AUTO_INCREMENT PRIMARY KEY, \"+ my_str[:-1] + \")\"\n",
    "    \n",
    "    \n",
    "    mydb = connect_to_db(db_name)\n",
    "    mycursor = mydb.cursor()\n",
    "    mycursor.execute(query)\n",
    "    mycursor.close()\n",
    "    mydb.close()\n",
    "\n"
   ]
  },
  {
   "cell_type": "code",
   "execution_count": 15,
   "metadata": {},
   "outputs": [],
   "source": [
    "# Creamos nuestra tabla de alumnos\n",
    "columnas = ['nombre', 'apellido', 'fecha_nacimento', 'dni', 'email', 'carrera', 'promedio']\n",
    "tipos = [\"VARCHAR(100)\", \"VARCHAR(100)\", \"DATE\", \"VARCHAR(20)\", \"VARCHAR(50)\", \"VARCHAR(30)\", \"FLOAT\"]\n",
    "\n",
    "def create_dict(columnas, tipos):\n",
    "    my_dict = {}\n",
    "\n",
    "    paquetes = list(zip(columnas, tipos))\n",
    "\n",
    "\n",
    "    for idx, paquete in enumerate(paquetes):\n",
    "        my_dict[\"col\"+str(idx+1)] = {\"col_name\":paquete[0], \"col_type\": paquete[1]}\n",
    "\n",
    "    return my_dict\n",
    "\n",
    "my_dict = create_dict(columnas, tipos)"
   ]
  },
  {
   "cell_type": "code",
   "execution_count": 16,
   "metadata": {},
   "outputs": [],
   "source": [
    "# Creamos la tabla\n",
    "create_table(\"facultad\", \"alumnos\", my_dict)"
   ]
  },
  {
   "cell_type": "code",
   "execution_count": 17,
   "metadata": {},
   "outputs": [],
   "source": [
    "# Creamos una funcion para mostrar la tabla creada (y las demas)\n",
    "def show_tables_in_db(db_name):\n",
    "    mydb = connect_to_db(db_name)\n",
    "\n",
    "    mycursor = mydb.cursor()\n",
    "    mycursor.execute(\"SHOW TABLES\")\n",
    "\n",
    "    for x in mycursor:\n",
    "        print(x)\n",
    "\n",
    "    mycursor.close()\n",
    "    mydb.close()"
   ]
  },
  {
   "cell_type": "code",
   "execution_count": 18,
   "metadata": {},
   "outputs": [
    {
     "name": "stdout",
     "output_type": "stream",
     "text": [
      "('alumnos',)\n"
     ]
    }
   ],
   "source": [
    "# Invoco la funcion\n",
    "show_tables_in_db(\"facultad\")"
   ]
  },
  {
   "cell_type": "markdown",
   "metadata": {},
   "source": [
    "---\n",
    "#### Funciones para agregar alumnos de a 1 \n",
    "---"
   ]
  },
  {
   "cell_type": "code",
   "execution_count": 19,
   "metadata": {},
   "outputs": [],
   "source": [
    "## Funciones auxiliares\n",
    "\n",
    "def format_column_names(column_names, values):\n",
    "    col_str = \"\"\n",
    "\n",
    "    n_col = len(column_names)\n",
    "    for idx, col in enumerate(column_names):\n",
    "        col_str += col\n",
    "        if idx != n_col-1:\n",
    "            col_str += \", \"\n",
    "\n",
    "    \n",
    "    n_val = len(values)\n",
    "    val_str = \"\"\n",
    "    for i in range(n_val):\n",
    "        val_str += \"%s\"\n",
    "        if i!=n_val-1:\n",
    "            val_str +=\", \"\n",
    "\n",
    "    return col_str, val_str\n",
    "\n",
    "def get_alumnos_col_names():\n",
    "    return ['nombre', 'apellido', 'fecha_nacimento', 'dni', 'email', 'carrera', 'promedio']"
   ]
  },
  {
   "cell_type": "code",
   "execution_count": 20,
   "metadata": {},
   "outputs": [],
   "source": [
    "def insert_1_into_table(db_name, table_name, column_names, values):\n",
    "\n",
    "    mydb = connect_to_db(db_name)\n",
    "    mycursor = mydb.cursor()\n",
    "\n",
    "    col_str, val_str = format_column_names(column_names, values)\n",
    "\n",
    "    sql = \"INSERT INTO \"+ table_name +\" (\"+col_str+\") VALUES (\"+val_str+\")\"\n",
    "    val = values\n",
    "    \n",
    "    # print(\"sql --> \", sql)\n",
    "    # print(\"val --> \", val)\n",
    "    \n",
    "    \n",
    "    mycursor.execute(sql, val)\n",
    "\n",
    "    mydb.commit()\n",
    "\n",
    "    print(mycursor.rowcount, \"record inserted.\")\n",
    "\n",
    "    mycursor.close()\n",
    "    mydb.close()"
   ]
  },
  {
   "cell_type": "code",
   "execution_count": 21,
   "metadata": {},
   "outputs": [
    {
     "name": "stdout",
     "output_type": "stream",
     "text": [
      "1 record inserted.\n"
     ]
    }
   ],
   "source": [
    "# Inserto un/a alumno/a\n",
    "\n",
    "\n",
    "col_names = get_alumnos_col_names()\n",
    "values = [\"Maria\", \"Luz\", \"2001-01-24\", \"00000112\", \"maria.luz@email.com\", \"Computacion\", 7.35]\n",
    "\n",
    "insert_1_into_table(\"facultad\", \"alumnos\", col_names, values)"
   ]
  },
  {
   "cell_type": "markdown",
   "metadata": {},
   "source": [
    "---\n",
    "#### Funcion para agregar alumnos de a varios a la vez\n",
    "\n",
    "---"
   ]
  },
  {
   "cell_type": "code",
   "execution_count": 22,
   "metadata": {},
   "outputs": [],
   "source": [
    "\n",
    "def insert_several_into_table(db_name, table_name, column_names, values):\n",
    "    \n",
    "    mydb = connect_to_db(db_name)\n",
    "    mycursor = mydb.cursor()\n",
    "    \n",
    "    col_str, val_str = format_column_names(column_names, values[0])\n",
    "\n",
    "    sql = \"INSERT INTO \"+ table_name +\" (\"+col_str+\") VALUES (\"+val_str+\")\"\n",
    "    # print(\"sql --> \", sql) \n",
    "    # print(\"values --> \", values)\n",
    "    mycursor.executemany(sql, values)\n",
    "\n",
    "    mydb.commit()\n",
    "\n",
    "    print(mycursor.rowcount, \"was inserted.\")\n",
    "    mycursor.close()\n",
    "    mydb.close()"
   ]
  },
  {
   "cell_type": "code",
   "execution_count": 23,
   "metadata": {},
   "outputs": [
    {
     "name": "stdout",
     "output_type": "stream",
     "text": [
      "['nombre', 'apellido', 'fecha_nacimento', 'dni', 'email', 'carrera', 'promedio']\n",
      "3 was inserted.\n"
     ]
    }
   ],
   "source": [
    "# Agrego varios\n",
    "\n",
    "col_names = get_alumnos_col_names()\n",
    "print(col_names)\n",
    "values = [\n",
    "    [\"Juliana\", \"Pepe\", \"1999-04-18\", \"00000113\", \"juliana.pepe@email.com\", \"Alimentos\", 6.28],\n",
    "    [\"Ramiro\", \"Roa\", \"2001-11-28\", \"00000114\", \"ramiro.roa@email.com\", \"Mecanica\", 5.45],\n",
    "    [\"Gonzalo\", \"Yule\", \"2002-06-14\", \"00000115\", \"gonzalo.yule@email.com\", \"Electrica\", 7.67]\n",
    "    ]\n",
    "insert_several_into_table(\"facultad\", \"alumnos\", col_names, values)"
   ]
  },
  {
   "cell_type": "markdown",
   "metadata": {},
   "source": [
    "---\n",
    "#### La tabla completa --> SELECT statement\n",
    "\n",
    "---"
   ]
  },
  {
   "cell_type": "code",
   "execution_count": 24,
   "metadata": {},
   "outputs": [],
   "source": [
    "def show_table(db_name, table_name):\n",
    "    mydb = connect_to_db(db_name)\n",
    "    mycursor = mydb.cursor()\n",
    "    \n",
    "    sql = \"SELECT * FROM \"+table_name\n",
    "    mycursor.execute(sql)\n",
    "\n",
    "    myresult = mycursor.fetchall()\n",
    "\n",
    "    for x in myresult:\n",
    "        print(x)\n",
    "\n",
    "    mycursor.close()\n",
    "    mydb.close()"
   ]
  },
  {
   "cell_type": "code",
   "execution_count": 25,
   "metadata": {},
   "outputs": [
    {
     "name": "stdout",
     "output_type": "stream",
     "text": [
      "(1, 'Maria', 'Luz', datetime.date(2001, 1, 24), '00000112', 'maria.luz@email.com', 'Computacion', 7.35)\n",
      "(2, 'Juliana', 'Pepe', datetime.date(1999, 4, 18), '00000113', 'juliana.pepe@email.com', 'Alimentos', 6.28)\n",
      "(3, 'Ramiro', 'Roa', datetime.date(2001, 11, 28), '00000114', 'ramiro.roa@email.com', 'Mecanica', 5.45)\n",
      "(4, 'Gonzalo', 'Yule', datetime.date(2002, 6, 14), '00000115', 'gonzalo.yule@email.com', 'Electrica', 7.67)\n"
     ]
    }
   ],
   "source": [
    "show_table(\"facultad\", \"alumnos\")"
   ]
  },
  {
   "cell_type": "markdown",
   "metadata": {},
   "source": [
    "---\n",
    "#### Agrego varios alumnos mas para poder practicar filtrado\n",
    "\n",
    "---"
   ]
  },
  {
   "cell_type": "code",
   "execution_count": 26,
   "metadata": {},
   "outputs": [
    {
     "name": "stdout",
     "output_type": "stream",
     "text": [
      "['nombre', 'apellido', 'fecha_nacimento', 'dni', 'email', 'carrera', 'promedio']\n",
      "5 was inserted.\n",
      "(1, 'Maria', 'Luz', datetime.date(2001, 1, 24), '00000112', 'maria.luz@email.com', 'Computacion', 7.35)\n",
      "(2, 'Juliana', 'Pepe', datetime.date(1999, 4, 18), '00000113', 'juliana.pepe@email.com', 'Alimentos', 6.28)\n",
      "(3, 'Ramiro', 'Roa', datetime.date(2001, 11, 28), '00000114', 'ramiro.roa@email.com', 'Mecanica', 5.45)\n",
      "(4, 'Gonzalo', 'Yule', datetime.date(2002, 6, 14), '00000115', 'gonzalo.yule@email.com', 'Electrica', 7.67)\n",
      "(5, 'Rosario', 'Gomez', datetime.date(2001, 7, 21), '00000116', 'rosario.gomez@email.com', 'Alimentos', 8.38)\n",
      "(6, 'Lucas', 'Note', datetime.date(1998, 1, 16), '00000117', 'lucas.note@email.com', 'Electronica', 8.75)\n",
      "(7, 'Luisana', 'Cel', datetime.date(2000, 3, 4), '00000118', 'luisana.cel@email.com', 'Mecanica', 7.07)\n",
      "(8, 'Camilo', 'Septimo', datetime.date(1997, 8, 11), '00000119', 'camilo.septimo@email.com', 'Electronica', 7.77)\n",
      "(9, 'Marita', 'Chizo', datetime.date(1996, 5, 23), '00000120', 'marita.chizo@email.com', 'Computacion', 8.75)\n"
     ]
    }
   ],
   "source": [
    "col_names = get_alumnos_col_names()\n",
    "print(col_names)\n",
    "\n",
    "values = [\n",
    "    [\"Rosario\", \"Gomez\", \"2001-07-21\", \"00000116\", \"rosario.gomez@email.com\", \"Alimentos\", 8.38],\n",
    "    [\"Lucas\", \"Note\", \"1998-01-16\", \"00000117\", \"lucas.note@email.com\", \"Electronica\", 8.75],\n",
    "    [\"Luisana\", \"Cel\", \"2000-03-04\", \"00000118\", \"luisana.cel@email.com\", \"Mecanica\", 7.07],\n",
    "    [\"Camilo\", \"Septimo\", \"1997-08-11\", \"00000119\", \"camilo.septimo@email.com\", \"Electronica\", 7.77],\n",
    "    [\"Marita\", \"Chizo\", \"1996-05-23\", \"00000120\", \"marita.chizo@email.com\", \"Computacion\", 8.75]    \n",
    "    ]\n",
    "insert_several_into_table(\"facultad\", \"alumnos\", col_names, values)\n",
    "show_table(\"facultad\", \"alumnos\")"
   ]
  },
  {
   "cell_type": "markdown",
   "metadata": {},
   "source": [
    "---\n",
    "#### DROP TABLE (if exist)\n",
    "\n",
    "##### **CUIDADO!!** Eliminar una tabla es un proceso irreversible.\n",
    "\n",
    "---"
   ]
  },
  {
   "cell_type": "code",
   "execution_count": 27,
   "metadata": {},
   "outputs": [],
   "source": [
    "def drop_table_if_exist(db_name, table_name):\n",
    "    mydb = connect_to_db(db_name)\n",
    "    mycursor = mydb.cursor()\n",
    "\n",
    "    sql = \"DROP TABLE IF EXISTS \" + table_name\n",
    "\n",
    "    \n",
    "    mycursor.execute(sql)\n",
    "    \n",
    "    mycursor.close()\n",
    "    mydb.close()"
   ]
  },
  {
   "cell_type": "code",
   "execution_count": 28,
   "metadata": {},
   "outputs": [],
   "source": [
    "drop_table_if_exist(\"facultad\", \"alumnos\")"
   ]
  },
  {
   "cell_type": "markdown",
   "metadata": {},
   "source": [
    "---\n",
    "#### Drop database\n",
    "\n",
    "#### **Cuidado!** Eliminar una base de datos es un proceso irreversible\n",
    "\n",
    "---"
   ]
  },
  {
   "cell_type": "code",
   "execution_count": 29,
   "metadata": {},
   "outputs": [],
   "source": [
    "def drop_database_if_exist(db_name):\n",
    "    mydb = connect_to_db(db_name)\n",
    "    mycursor = mydb.cursor()\n",
    "\n",
    "    sql = \"DROP DATABASE IF EXISTS \" + db_name\n",
    "\n",
    "    \n",
    "    mycursor.execute(sql)\n",
    "    \n",
    "    mycursor.close()\n",
    "    mydb.close()"
   ]
  },
  {
   "cell_type": "code",
   "execution_count": 30,
   "metadata": {},
   "outputs": [],
   "source": [
    "drop_database_if_exist(\"facultad\")"
   ]
  }
 ],
 "metadata": {
  "kernelspec": {
   "display_name": "Python 3.10.7 64-bit",
   "language": "python",
   "name": "python3"
  },
  "language_info": {
   "codemirror_mode": {
    "name": "ipython",
    "version": 3
   },
   "file_extension": ".py",
   "mimetype": "text/x-python",
   "name": "python",
   "nbconvert_exporter": "python",
   "pygments_lexer": "ipython3",
   "version": "3.10.7"
  },
  "orig_nbformat": 4,
  "vscode": {
   "interpreter": {
    "hash": "91feae2c62c7f7dd8c694bfef93388a2801ca0d10da16ba22787f425e87199c5"
   }
  }
 },
 "nbformat": 4,
 "nbformat_minor": 2
}
